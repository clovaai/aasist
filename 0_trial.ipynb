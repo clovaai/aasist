{
 "cells": [
  {
   "cell_type": "code",
   "execution_count": 2,
   "id": "4ae88430",
   "metadata": {},
   "outputs": [],
   "source": [
    "config = {\n",
    "    \"database_path\": \"/nas/rishith/datasets/asvSpoof2019/DS_10283_3336/LA/\",\n",
    "    \"asv_score_path\": \"ASVspoof2019_LA_asv_scores/ASVspoof2019.LA.asv.eval.gi.trl.scores.txt\",\n",
    "    \"model_path\": \"./models/weights/AASIST.pth\",\n",
    "    \"batch_size\": 24,\n",
    "    \"num_epochs\": 100,\n",
    "    \"loss\": \"CCE\",\n",
    "    \"track\": \"LA\",\n",
    "    \"eval_all_best\": \"True\",\n",
    "    \"eval_output\": \"eval_scores_using_best_dev_model.txt\",\n",
    "    \"cudnn_deterministic_toggle\": \"True\",\n",
    "    \"cudnn_benchmark_toggle\": \"False\",\n",
    "    \"model_config\": {\n",
    "        \"architecture\": \"AASIST\",\n",
    "        \"nb_samp\": 64600,\n",
    "        \"first_conv\": 128,\n",
    "        \"filts\": [70, [1, 32], [32, 32], [32, 64], [64, 64]],\n",
    "        \"gat_dims\": [64, 32],\n",
    "        \"pool_ratios\": [0.5, 0.7, 0.5, 0.5],\n",
    "        \"temperatures\": [2.0, 2.0, 100.0, 100.0]\n",
    "    },\n",
    "    \"optim_config\": {\n",
    "        \"optimizer\": \"adam\", \n",
    "        \"amsgrad\": \"False\",\n",
    "        \"base_lr\": 0.0001,\n",
    "        \"lr_min\": 0.000005,\n",
    "        \"betas\": [0.9, 0.999],\n",
    "        \"weight_decay\": 0.0001,\n",
    "        \"scheduler\": \"cosine\"\n",
    "    }\n",
    "}"
   ]
  },
  {
   "cell_type": "code",
   "execution_count": 3,
   "id": "3a57a552",
   "metadata": {},
   "outputs": [],
   "source": [
    "# load experiment configurations\n",
    "# with open(args.config, \"r\") as f_json:\n",
    "#     config = json.loads(f_json.read())\n",
    "model_config = config[\"model_config\"]\n",
    "optim_config = config[\"optim_config\"]\n",
    "optim_config[\"epochs\"] = config[\"num_epochs\"]\n",
    "track = config[\"track\"]\n",
    "assert track in [\"LA\", \"PA\", \"DF\"], \"Invalid track given\"\n",
    "if \"eval_all_best\" not in config:\n",
    "    config[\"eval_all_best\"] = \"True\"\n",
    "if \"freq_aug\" not in config:\n",
    "    config[\"freq_aug\"] = \"False\""
   ]
  },
  {
   "cell_type": "code",
   "execution_count": 4,
   "id": "e179cf55",
   "metadata": {},
   "outputs": [
    {
     "name": "stderr",
     "output_type": "stream",
     "text": [
      "2023-05-29 12:52:45.904506: I tensorflow/core/platform/cpu_feature_guard.cc:193] This TensorFlow binary is optimized with oneAPI Deep Neural Network Library (oneDNN) to use the following CPU instructions in performance-critical operations:  AVX2 AVX512F AVX512_VNNI FMA\n",
      "To enable them in other operations, rebuild TensorFlow with the appropriate compiler flags.\n",
      "2023-05-29 12:52:47.521818: I tensorflow/core/util/util.cc:169] oneDNN custom operations are on. You may see slightly different numerical results due to floating-point round-off errors from different computation orders. To turn them off, set the environment variable `TF_ENABLE_ONEDNN_OPTS=0`.\n",
      "2023-05-29 12:52:48.203401: W tensorflow/stream_executor/platform/default/dso_loader.cc:64] Could not load dynamic library 'libcudart.so.11.0'; dlerror: libcudart.so.11.0: cannot open shared object file: No such file or directory\n",
      "2023-05-29 12:52:48.203455: I tensorflow/stream_executor/cuda/cudart_stub.cc:29] Ignore above cudart dlerror if you do not have a GPU set up on your machine.\n",
      "2023-05-29 12:52:48.507011: E tensorflow/stream_executor/cuda/cuda_blas.cc:2981] Unable to register cuBLAS factory: Attempting to register factory for plugin cuBLAS when one has already been registered\n",
      "2023-05-29 12:52:53.620163: W tensorflow/stream_executor/platform/default/dso_loader.cc:64] Could not load dynamic library 'libnvinfer.so.7'; dlerror: libnvinfer.so.7: cannot open shared object file: No such file or directory\n",
      "2023-05-29 12:52:53.620389: W tensorflow/stream_executor/platform/default/dso_loader.cc:64] Could not load dynamic library 'libnvinfer_plugin.so.7'; dlerror: libnvinfer_plugin.so.7: cannot open shared object file: No such file or directory\n",
      "2023-05-29 12:52:53.620414: W tensorflow/compiler/tf2tensorrt/utils/py_utils.cc:38] TF-TRT Warning: Cannot dlopen some TensorRT libraries. If you would like to use Nvidia GPU with TensorRT, please make sure the missing libraries mentioned above are installed properly.\n"
     ]
    }
   ],
   "source": [
    "import json\n",
    "import os\n",
    "import sys\n",
    "import warnings\n",
    "from importlib import import_module\n",
    "from pathlib import Path\n",
    "from shutil import copy\n",
    "from typing import Dict, List, Union\n",
    "\n",
    "import torch\n",
    "import torch.nn as nn\n",
    "from torch.utils.data import DataLoader\n",
    "from torch.utils.tensorboard import SummaryWriter\n",
    "from torchcontrib.optim import SWA\n",
    "\n",
    "from data_utils import (Dataset_ASVspoof2019_train,\n",
    "                        Dataset_ASVspoof2019_devNeval, genSpoof_list)\n",
    "from evaluation import calculate_tDCF_EER\n",
    "from utils import create_optimizer, seed_worker, set_seed, str_to_bool"
   ]
  },
  {
   "cell_type": "code",
   "execution_count": 6,
   "id": "3c575a00",
   "metadata": {},
   "outputs": [],
   "source": [
    "# make experiment reproducible\n",
    "seed = 1234\n",
    "set_seed(seed, config)"
   ]
  },
  {
   "cell_type": "code",
   "execution_count": 7,
   "id": "dbd357d1",
   "metadata": {},
   "outputs": [],
   "source": [
    "# define database related paths\n",
    "output_dir = './exp_result'\n",
    "output_dir = Path(output_dir)\n",
    "prefix_2019 = \"ASVspoof2019.{}\".format(track)\n",
    "database_path = Path(config[\"database_path\"])\n",
    "dev_trial_path = (database_path /\n",
    "                      \"ASVspoof2019_{}_cm_protocols/{}.cm.dev.trl.txt\".format(\n",
    "                          track, prefix_2019))\n",
    "eval_trial_path = (\n",
    "        database_path /\n",
    "        \"ASVspoof2019_{}_cm_protocols/{}.cm.eval.trl.txt\".format(\n",
    "            track, prefix_2019))"
   ]
  },
  {
   "cell_type": "code",
   "execution_count": 20,
   "id": "ccf940b6",
   "metadata": {},
   "outputs": [
    {
     "data": {
      "text/plain": [
       "('AASIST', '.conf')"
      ]
     },
     "execution_count": 20,
     "metadata": {},
     "output_type": "execute_result"
    }
   ],
   "source": [
    "# os.path.basename('./config/AASIST.conf')\n",
    "os.path.splitext(os.path.basename('./config/AASIST.conf'))"
   ]
  },
  {
   "cell_type": "code",
   "execution_count": 22,
   "id": "d81b5b27",
   "metadata": {},
   "outputs": [],
   "source": [
    "# define model related paths\n",
    "model_tag = \"{}_{}_ep{}_bs{}\".format(\n",
    "        track,\n",
    "        'AASIST',\n",
    "        config[\"num_epochs\"], config[\"batch_size\"])\n",
    "# if args.comment:\n",
    "#     model_tag = model_tag + \"_{}\".format(acomment)\n",
    "model_tag = output_dir / model_tag\n",
    "model_save_path = model_tag / \"weights\"\n",
    "eval_score_path = model_tag / config[\"eval_output\"]\n",
    "writer = SummaryWriter(model_tag)\n",
    "os.makedirs(model_save_path, exist_ok=True)\n",
    "# copy(config, model_tag / \"config.conf\")"
   ]
  },
  {
   "cell_type": "code",
   "execution_count": 9,
   "id": "b4049eb8",
   "metadata": {},
   "outputs": [
    {
     "name": "stdout",
     "output_type": "stream",
     "text": [
      "Device: cpu\n"
     ]
    }
   ],
   "source": [
    "# set device\n",
    "device = \"cuda\" if torch.cuda.is_available() else \"cpu\"\n",
    "print(\"Device: {}\".format(device))"
   ]
  },
  {
   "cell_type": "code",
   "execution_count": 11,
   "id": "7ea8f5a8",
   "metadata": {},
   "outputs": [],
   "source": [
    "from main import *"
   ]
  },
  {
   "cell_type": "code",
   "execution_count": 12,
   "id": "2f6713dd",
   "metadata": {},
   "outputs": [
    {
     "name": "stdout",
     "output_type": "stream",
     "text": [
      "no. model params:297866\n"
     ]
    }
   ],
   "source": [
    "# define model architecture\n",
    "model = get_model(model_config, device)"
   ]
  },
  {
   "cell_type": "code",
   "execution_count": 13,
   "id": "c2cd41df",
   "metadata": {},
   "outputs": [
    {
     "name": "stdout",
     "output_type": "stream",
     "text": [
      "no. training files: 25380\n",
      "no. validation files: 24844\n"
     ]
    }
   ],
   "source": [
    "# define dataloaders\n",
    "trn_loader, dev_loader, eval_loader = get_loader(\n",
    "        database_path, seed, config)"
   ]
  },
  {
   "cell_type": "code",
   "execution_count": 23,
   "id": "e40131c2",
   "metadata": {},
   "outputs": [
    {
     "name": "stdout",
     "output_type": "stream",
     "text": [
      "Model loaded : ./models/weights/AASIST.pth\n",
      "Start evaluation...\n",
      "Scores saved to exp_result/LA_AASIST_ep100_bs24/eval_scores_using_best_dev_model.txt\n",
      "\n",
      "CM SYSTEM\n",
      "\tEER\t\t= 0.829511226 % (Equal error rate for countermeasure)\n",
      "\n",
      "TANDEM\n",
      "\tmin-tDCF\t\t= 0.027529478\n",
      "\n",
      "BREAKDOWN CM SYSTEM\n",
      "\tEER A07\t\t= 0.529676029 % (Equal error rate for A07\n",
      "\tEER A08\t\t= 0.424416206 % (Equal error rate for A08\n",
      "\tEER A09\t\t= 0.000000000 % (Equal error rate for A09\n",
      "\tEER A10\t\t= 0.855630509 % (Equal error rate for A10\n",
      "\tEER A11\t\t= 0.179950347 % (Equal error rate for A11\n",
      "\tEER A12\t\t= 0.709626376 % (Equal error rate for A12\n",
      "\tEER A13\t\t= 0.146004133 % (Equal error rate for A13\n",
      "\tEER A14\t\t= 0.162977240 % (Equal error rate for A14\n",
      "\tEER A15\t\t= 0.553447233 % (Equal error rate for A15\n",
      "\tEER A16\t\t= 0.651908959 % (Equal error rate for A16\n",
      "\tEER A17\t\t= 1.263073608 % (Equal error rate for A17\n",
      "\tEER A18\t\t= 2.607635837 % (Equal error rate for A18\n",
      "\tEER A19\t\t= 0.651908959 % (Equal error rate for A19\n",
      "DONE.\n",
      "\n",
      "CM SYSTEM\n",
      "\tEER\t\t= 0.829511226 % (Equal error rate for countermeasure)\n",
      "\n",
      "TANDEM\n",
      "\tmin-tDCF\t\t= 0.027529478\n",
      "\n",
      "BREAKDOWN CM SYSTEM\n",
      "\tEER A07\t\t= 0.529676029 % (Equal error rate for A07\n",
      "\tEER A08\t\t= 0.424416206 % (Equal error rate for A08\n",
      "\tEER A09\t\t= 0.000000000 % (Equal error rate for A09\n",
      "\tEER A10\t\t= 0.855630509 % (Equal error rate for A10\n",
      "\tEER A11\t\t= 0.179950347 % (Equal error rate for A11\n",
      "\tEER A12\t\t= 0.709626376 % (Equal error rate for A12\n",
      "\tEER A13\t\t= 0.146004133 % (Equal error rate for A13\n",
      "\tEER A14\t\t= 0.162977240 % (Equal error rate for A14\n",
      "\tEER A15\t\t= 0.553447233 % (Equal error rate for A15\n",
      "\tEER A16\t\t= 0.651908959 % (Equal error rate for A16\n",
      "\tEER A17\t\t= 1.263073608 % (Equal error rate for A17\n",
      "\tEER A18\t\t= 2.607635837 % (Equal error rate for A18\n",
      "\tEER A19\t\t= 0.651908959 % (Equal error rate for A19\n"
     ]
    }
   ],
   "source": [
    "# evaluates pretrained model and exit script\n",
    "model.load_state_dict(\n",
    "        torch.load(config[\"model_path\"], map_location=device))\n",
    "print(\"Model loaded : {}\".format(config[\"model_path\"]))\n",
    "print(\"Start evaluation...\")\n",
    "produce_evaluation_file(eval_loader, model, device,\n",
    "                                eval_score_path, eval_trial_path)\n",
    "calculate_tDCF_EER(cm_scores_file=eval_score_path,\n",
    "                           asv_score_file=database_path /\n",
    "                           config[\"asv_score_path\"],\n",
    "                           output_file=model_tag / \"t-DCF_EER.txt\")\n",
    "print(\"DONE.\")\n",
    "eval_eer, eval_tdcf = calculate_tDCF_EER(\n",
    "            cm_scores_file=eval_score_path,\n",
    "            asv_score_file=database_path / config[\"asv_score_path\"],\n",
    "            output_file=model_tag/\"loaded_model_t-DCF_EER.txt\")\n",
    "        "
   ]
  },
  {
   "cell_type": "code",
   "execution_count": null,
   "id": "9213804d",
   "metadata": {},
   "outputs": [],
   "source": []
  },
  {
   "cell_type": "markdown",
   "id": "6e9bd683",
   "metadata": {},
   "source": [
    "# AASIST-L"
   ]
  },
  {
   "cell_type": "code",
   "execution_count": 11,
   "id": "2c682a61",
   "metadata": {},
   "outputs": [],
   "source": [
    "config = {\n",
    "    \"database_path\": \"/DATA/nfsshare/rishith/datasets/asvSpoof2019/DS_10283_3336/LA/\",\n",
    "    \"asv_score_path\": \"ASVspoof2019_LA_asv_scores/ASVspoof2019.LA.asv.eval.gi.trl.scores.txt\",\n",
    "    \"model_path\": \"./models/weights/AASIST-L.pth\",\n",
    "    \"batch_size\": 24,\n",
    "    \"num_epochs\": 20,\n",
    "    \"loss\": \"CCE\",\n",
    "    \"track\": \"LA\",\n",
    "    \"eval_all_best\": \"True\",\n",
    "    \"eval_output\": \"eval_scores_using_best_dev_model.txt\",\n",
    "    \"cudnn_deterministic_toggle\": \"True\",\n",
    "    \"cudnn_benchmark_toggle\": \"False\",\n",
    "    \"model_config\": {\n",
    "        \"architecture\": \"AASIST\",\n",
    "        \"nb_samp\": 64600,\n",
    "        \"first_conv\": 128,\n",
    "        \"filts\": [70, [1, 32], [32, 32], [32, 24], [24, 24]],\n",
    "        \"gat_dims\": [24, 32],\n",
    "        \"pool_ratios\": [0.4, 0.5, 0.7, 0.5],\n",
    "        \"temperatures\": [2.0, 2.0, 100.0, 100.0]\n",
    "    },\n",
    "    \"optim_config\": {\n",
    "        \"optimizer\": \"adam\", \n",
    "        \"amsgrad\": \"False\",\n",
    "        \"base_lr\": 0.0001,\n",
    "        \"lr_min\": 0.000005,\n",
    "        \"betas\": [0.9, 0.999],\n",
    "        \"weight_decay\": 0.0001,\n",
    "        \"scheduler\": \"cosine\"\n",
    "    }\n",
    "}\n"
   ]
  },
  {
   "cell_type": "code",
   "execution_count": 12,
   "id": "c1de4d00",
   "metadata": {},
   "outputs": [],
   "source": [
    "model_config = config[\"model_config\"]\n",
    "optim_config = config[\"optim_config\"]\n",
    "optim_config[\"epochs\"] = config[\"num_epochs\"]\n",
    "track = config[\"track\"]\n",
    "assert track in [\"LA\", \"PA\", \"DF\"], \"Invalid track given\"\n",
    "if \"eval_all_best\" not in config:\n",
    "    config[\"eval_all_best\"] = \"True\"\n",
    "if \"freq_aug\" not in config:\n",
    "    config[\"freq_aug\"] = \"False\""
   ]
  },
  {
   "cell_type": "code",
   "execution_count": 13,
   "id": "0085bdad",
   "metadata": {},
   "outputs": [],
   "source": [
    "import json\n",
    "import os\n",
    "import sys\n",
    "import warnings\n",
    "from importlib import import_module\n",
    "from pathlib import Path\n",
    "from shutil import copy\n",
    "from typing import Dict, List, Union\n",
    "\n",
    "import torch\n",
    "import torch.nn as nn\n",
    "from torch.utils.data import DataLoader\n",
    "from torch.utils.tensorboard import SummaryWriter\n",
    "from torchcontrib.optim import SWA\n",
    "\n",
    "from data_utils import (Dataset_ASVspoof2019_train,\n",
    "                        Dataset_ASVspoof2019_devNeval, genSpoof_list)\n",
    "from evaluation import calculate_tDCF_EER\n",
    "from utils import create_optimizer, seed_worker, set_seed, str_to_bool"
   ]
  },
  {
   "cell_type": "code",
   "execution_count": 14,
   "id": "b3b82568",
   "metadata": {},
   "outputs": [],
   "source": [
    "# make experiment reproducible\n",
    "seed = 1234\n",
    "set_seed(seed, config)"
   ]
  },
  {
   "cell_type": "code",
   "execution_count": 15,
   "id": "18fc024a",
   "metadata": {},
   "outputs": [],
   "source": [
    "# define database related paths\n",
    "output_dir = './exp_result'\n",
    "output_dir = Path(output_dir)\n",
    "prefix_2019 = \"ASVspoof2019.{}\".format(track)\n",
    "database_path = Path(config[\"database_path\"])\n",
    "dev_trial_path = (database_path /\n",
    "                      \"ASVspoof2019_{}_cm_protocols/{}.cm.dev.trl.txt\".format(\n",
    "                          track, prefix_2019))\n",
    "eval_trial_path = (\n",
    "        database_path /\n",
    "        \"ASVspoof2019_{}_cm_protocols/{}.cm.eval.trl.txt\".format(\n",
    "            track, prefix_2019))"
   ]
  },
  {
   "cell_type": "code",
   "execution_count": 16,
   "id": "e24ac463",
   "metadata": {},
   "outputs": [],
   "source": [
    "# define model related paths\n",
    "model_tag = \"{}_{}_ep{}_bs{}\".format(\n",
    "        track,\n",
    "        'AASIST-L',\n",
    "        config[\"num_epochs\"], config[\"batch_size\"])\n",
    "# if args.comment:\n",
    "#     model_tag = model_tag + \"_{}\".format(acomment)\n",
    "model_tag = output_dir / model_tag\n",
    "model_save_path = model_tag / \"weights\"\n",
    "eval_score_path = model_tag / config[\"eval_output\"]\n",
    "writer = SummaryWriter(model_tag)\n",
    "os.makedirs(model_save_path, exist_ok=True)"
   ]
  },
  {
   "cell_type": "code",
   "execution_count": 17,
   "id": "8ddb725f",
   "metadata": {},
   "outputs": [
    {
     "name": "stdout",
     "output_type": "stream",
     "text": [
      "Device: cuda\n"
     ]
    }
   ],
   "source": [
    "# set device\n",
    "device = \"cuda\" if torch.cuda.is_available() else \"cpu\"\n",
    "print(\"Device: {}\".format(device))"
   ]
  },
  {
   "cell_type": "code",
   "execution_count": 18,
   "id": "3e90dba7",
   "metadata": {},
   "outputs": [],
   "source": [
    "from main import *"
   ]
  },
  {
   "cell_type": "code",
   "execution_count": 19,
   "id": "31a2d4b9",
   "metadata": {},
   "outputs": [
    {
     "name": "stdout",
     "output_type": "stream",
     "text": [
      "no. model params:85306\n"
     ]
    }
   ],
   "source": [
    "# define model architecture\n",
    "model = get_model(model_config, device)"
   ]
  },
  {
   "cell_type": "code",
   "execution_count": 20,
   "id": "762b30a5",
   "metadata": {},
   "outputs": [
    {
     "data": {
      "text/plain": [
       "{'architecture': 'AASIST',\n",
       " 'nb_samp': 64600,\n",
       " 'first_conv': 128,\n",
       " 'filts': [70, [1, 32], [32, 32], [32, 24], [24, 24]],\n",
       " 'gat_dims': [24, 32],\n",
       " 'pool_ratios': [0.4, 0.5, 0.7, 0.5],\n",
       " 'temperatures': [2.0, 2.0, 100.0, 100.0]}"
      ]
     },
     "execution_count": 20,
     "metadata": {},
     "output_type": "execute_result"
    }
   ],
   "source": [
    "model_config"
   ]
  },
  {
   "cell_type": "code",
   "execution_count": 21,
   "id": "30940fa9",
   "metadata": {},
   "outputs": [
    {
     "name": "stdout",
     "output_type": "stream",
     "text": [
      "no. training files: 25380\n",
      "no. validation files: 24844\n"
     ]
    }
   ],
   "source": [
    "# define dataloaders\n",
    "trn_loader, dev_loader, eval_loader = get_loader(\n",
    "        database_path, seed, config)"
   ]
  },
  {
   "cell_type": "code",
   "execution_count": 22,
   "id": "a5490fe0",
   "metadata": {},
   "outputs": [
    {
     "name": "stdout",
     "output_type": "stream",
     "text": [
      "Model loaded : ./models/weights/AASIST-L.pth\n",
      "Start evaluation...\n",
      "Scores saved to exp_result/LA_AASIST-L_ep20_bs24/eval_scores_using_best_dev_model.txt\n",
      "\n",
      "CM SYSTEM\n",
      "\tEER\t\t= 0.990923080 % (Equal error rate for countermeasure)\n",
      "\n",
      "TANDEM\n",
      "\tmin-tDCF\t\t= 0.030805977\n",
      "\n",
      "BREAKDOWN CM SYSTEM\n",
      "\tEER A07\t\t= 0.553447233 % (Equal error rate for A07\n",
      "\tEER A08\t\t= 0.203721550 % (Equal error rate for A08\n",
      "\tEER A09\t\t= 0.000000000 % (Equal error rate for A09\n",
      "\tEER A10\t\t= 1.001634642 % (Equal error rate for A10\n",
      "\tEER A11\t\t= 0.139206037 % (Equal error rate for A11\n",
      "\tEER A12\t\t= 0.692653269 % (Equal error rate for A12\n",
      "\tEER A13\t\t= 0.203721550 % (Equal error rate for A13\n",
      "\tEER A14\t\t= 0.057717417 % (Equal error rate for A14\n",
      "\tEER A15\t\t= 0.570420339 % (Equal error rate for A15\n",
      "\tEER A16\t\t= 0.634935852 % (Equal error rate for A16\n",
      "\tEER A17\t\t= 1.914982568 % (Equal error rate for A17\n",
      "\tEER A18\t\t= 3.049025150 % (Equal error rate for A18\n",
      "\tEER A19\t\t= 0.709626376 % (Equal error rate for A19\n",
      "DONE.\n",
      "\n",
      "CM SYSTEM\n",
      "\tEER\t\t= 0.990923080 % (Equal error rate for countermeasure)\n",
      "\n",
      "TANDEM\n",
      "\tmin-tDCF\t\t= 0.030805977\n",
      "\n",
      "BREAKDOWN CM SYSTEM\n",
      "\tEER A07\t\t= 0.553447233 % (Equal error rate for A07\n",
      "\tEER A08\t\t= 0.203721550 % (Equal error rate for A08\n",
      "\tEER A09\t\t= 0.000000000 % (Equal error rate for A09\n",
      "\tEER A10\t\t= 1.001634642 % (Equal error rate for A10\n",
      "\tEER A11\t\t= 0.139206037 % (Equal error rate for A11\n",
      "\tEER A12\t\t= 0.692653269 % (Equal error rate for A12\n",
      "\tEER A13\t\t= 0.203721550 % (Equal error rate for A13\n",
      "\tEER A14\t\t= 0.057717417 % (Equal error rate for A14\n",
      "\tEER A15\t\t= 0.570420339 % (Equal error rate for A15\n",
      "\tEER A16\t\t= 0.634935852 % (Equal error rate for A16\n",
      "\tEER A17\t\t= 1.914982568 % (Equal error rate for A17\n",
      "\tEER A18\t\t= 3.049025150 % (Equal error rate for A18\n",
      "\tEER A19\t\t= 0.709626376 % (Equal error rate for A19\n"
     ]
    }
   ],
   "source": [
    "# evaluates pretrained model and exit script\n",
    "model.load_state_dict(\n",
    "        torch.load(config[\"model_path\"], map_location=device))\n",
    "print(\"Model loaded : {}\".format(config[\"model_path\"]))\n",
    "print(\"Start evaluation...\")\n",
    "produce_evaluation_file(eval_loader, model, device,\n",
    "                                eval_score_path, eval_trial_path)\n",
    "calculate_tDCF_EER(cm_scores_file=eval_score_path,\n",
    "                           asv_score_file=database_path /\n",
    "                           config[\"asv_score_path\"],\n",
    "                           output_file=model_tag / \"t-DCF_EER.txt\")\n",
    "print(\"DONE.\")\n",
    "eval_eer, eval_tdcf = calculate_tDCF_EER(\n",
    "            cm_scores_file=eval_score_path,\n",
    "            asv_score_file=database_path / config[\"asv_score_path\"],\n",
    "            output_file=model_tag/\"loaded_model_t-DCF_EER.txt\")\n",
    "        "
   ]
  },
  {
   "cell_type": "code",
   "execution_count": null,
   "id": "ac5326c5",
   "metadata": {},
   "outputs": [],
   "source": []
  }
 ],
 "metadata": {
  "kernelspec": {
   "display_name": "Python 3 (ipykernel)",
   "language": "python",
   "name": "python3"
  },
  "language_info": {
   "codemirror_mode": {
    "name": "ipython",
    "version": 3
   },
   "file_extension": ".py",
   "mimetype": "text/x-python",
   "name": "python",
   "nbconvert_exporter": "python",
   "pygments_lexer": "ipython3",
   "version": "3.10.11"
  }
 },
 "nbformat": 4,
 "nbformat_minor": 5
}
